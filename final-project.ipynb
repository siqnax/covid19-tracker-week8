{
 "cells": [
  {
   "cell_type": "code",
   "execution_count": 10,
   "id": "b82cf6cf-e358-4c80-90c9-e0184b319876",
   "metadata": {},
   "outputs": [
    {
     "name": "stdout",
     "output_type": "stream",
     "text": [
      "iso_code                                        0\n",
      "continent                                   16665\n",
      "location                                        0\n",
      "date                                            0\n",
      "total_cases                                 37997\n",
      "                                            ...  \n",
      "population                                      0\n",
      "excess_mortality_cumulative_absolute       337901\n",
      "excess_mortality_cumulative                337901\n",
      "excess_mortality                           337901\n",
      "excess_mortality_cumulative_per_million    337901\n",
      "Length: 67, dtype: int64\n"
     ]
    }
   ],
   "source": [
    "import pandas as pd\n",
    "\n",
    "df = pd.read_csv('owid-covid-data.csv')\n",
    "\n",
    "\n",
    "\n",
    "# Check columns\n",
    "print (df.columns) \n",
    "\n",
    "# Preview rows \n",
    "print (df.head()) \n",
    "\n",
    "# Identify missing values: .\n",
    "print (df.isnull().sum())\n",
    "\n",
    "\n",
    "\n",
    "\n",
    "\n",
    "\n",
    "# Load the dataset (replace with your actual file path)\n",
    "df = pd.read_csv('owid-covid-data.csv')\n",
    "\n",
    "# Define countries of interest\n",
    "countries = ['Kenya', 'United States', 'India']  # Use 'United States' for USA in most datasets\n",
    "\n",
    "# Filter the DataFrame\n",
    "filtered_df = df[df['location'].isin(countries)]\n",
    "\n",
    "# Display the filtered data\n",
    "print(filtered_df.head())\n",
    "\n",
    "\n"
   ]
  },
  {
   "cell_type": "code",
   "execution_count": null,
   "id": "ef0ae5fd-4a55-42b4-8202-2e133d249304",
   "metadata": {},
   "outputs": [],
   "source": []
  },
  {
   "cell_type": "code",
   "execution_count": null,
   "id": "e20f3813-8ac6-466b-83ef-192d08b19651",
   "metadata": {},
   "outputs": [],
   "source": []
  }
 ],
 "metadata": {
  "kernelspec": {
   "display_name": "anaconda-panel-2023.05-py310",
   "language": "python",
   "name": "conda-env-anaconda-panel-2023.05-py310-py"
  },
  "language_info": {
   "codemirror_mode": {
    "name": "ipython",
    "version": 3
   },
   "file_extension": ".py",
   "mimetype": "text/x-python",
   "name": "python",
   "nbconvert_exporter": "python",
   "pygments_lexer": "ipython3",
   "version": "3.11.5"
  }
 },
 "nbformat": 4,
 "nbformat_minor": 5
}
